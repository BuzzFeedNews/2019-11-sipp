{
 "cells": [
  {
   "cell_type": "markdown",
   "metadata": {},
   "source": [
    "Filter the public use datasets for support providers"
   ]
  },
  {
   "cell_type": "code",
   "execution_count": 1,
   "metadata": {},
   "outputs": [],
   "source": [
    "import pandas as pd"
   ]
  },
  {
   "cell_type": "markdown",
   "metadata": {},
   "source": [
    "Set some options"
   ]
  },
  {
   "cell_type": "code",
   "execution_count": 2,
   "metadata": {},
   "outputs": [],
   "source": [
    "pd.set_option(\"display.max_columns\", 150)\n",
    "pd.options.display.float_format = '{:,}'.format"
   ]
  },
  {
   "cell_type": "markdown",
   "metadata": {},
   "source": [
    "Load the public use data"
   ]
  },
  {
   "cell_type": "code",
   "execution_count": 3,
   "metadata": {},
   "outputs": [],
   "source": [
    "def load_wave(filename):\n",
    "    wave = (\n",
    "        pd.read_csv(\"../output/wave1.csv\", dtype = {\"uid\": \"object\"})\n",
    "        .assign(\n",
    "            supports_parents = lambda x: x['eothsuprt1yn'] == 1,\n",
    "            supports_children = lambda x: x['eothsuprt2yn'] == 1,\n",
    "            tpartotamt = lambda x: x['tpartotamt'].fillna(0),\n",
    "            tkidtotamt = lambda x: x['tkidtotamt'].fillna(0)\n",
    "        )\n",
    "    )\n",
    "    \n",
    "    return wave"
   ]
  },
  {
   "cell_type": "code",
   "execution_count": 4,
   "metadata": {},
   "outputs": [],
   "source": [
    "wave1 = load_wave(\"../output/wave1.csv\")\n",
    "wave4 = load_wave(\"../output/wave4.csv\")"
   ]
  },
  {
   "cell_type": "markdown",
   "metadata": {},
   "source": [
    "## People who support parents\n",
    "\n",
    "Group by age and filter by month and support status"
   ]
  },
  {
   "cell_type": "code",
   "execution_count": 5,
   "metadata": {},
   "outputs": [],
   "source": [
    "def group_age(age):\n",
    "    if age < 30:\n",
    "        return \"under 30\"\n",
    "    elif age < 40:\n",
    "        return \"30-39\"\n",
    "    elif age < 50:\n",
    "        return \"40-49\"\n",
    "    elif age < 60:\n",
    "        return \"50-59\"\n",
    "    else:\n",
    "        return \"60 years and over\""
   ]
  },
  {
   "cell_type": "code",
   "execution_count": 6,
   "metadata": {},
   "outputs": [],
   "source": [
    "def group_generation(year):\n",
    "    if year <= 1945:\n",
    "        return \"Silent\"\n",
    "    if year <= 1964:\n",
    "        return \"Boomer\"\n",
    "    if year <= 1980:\n",
    "        return \"Generation x\"\n",
    "    if year <= 1996:\n",
    "        return \"Millennials\"\n",
    "    if year <= 2019:\n",
    "        return \"Gen Z\""
   ]
  },
  {
   "cell_type": "code",
   "execution_count": 7,
   "metadata": {},
   "outputs": [],
   "source": [
    "def filter_parents(wave):\n",
    "    parents = wave.loc[\n",
    "        lambda x: (x['monthcode'] == 12.0) & (x['supports_parents'] == True)\n",
    "    ].assign(\n",
    "        # age group depends on tage (age as of last birthday)\n",
    "        age_group = lambda frame: frame['tage'].apply( group_age ),\n",
    "        # generation depends on tdob_byear (year of birth)\n",
    "        generation = lambda frame: frame['tdob_byear'].apply( group_generation )\n",
    "    ).fillna(0)\n",
    "    \n",
    "    return parents"
   ]
  },
  {
   "cell_type": "code",
   "execution_count": 8,
   "metadata": {},
   "outputs": [],
   "source": [
    "parents1 = filter_parents(wave1)\n",
    "parents4 = filter_parents(wave4)"
   ]
  },
  {
   "cell_type": "code",
   "execution_count": 9,
   "metadata": {},
   "outputs": [],
   "source": [
    "parents1.to_csv(\"../output/w1_supports_parents.csv\", index = False)\n",
    "parents4.to_csv(\"../output/w4_supports_parents.csv\", index = False)"
   ]
  },
  {
   "cell_type": "markdown",
   "metadata": {},
   "source": [
    "## People who support children"
   ]
  },
  {
   "cell_type": "code",
   "execution_count": 10,
   "metadata": {},
   "outputs": [],
   "source": [
    "def filter_children(wave):\n",
    "    children = wave.loc[\n",
    "        lambda x: (x['monthcode'] == 12.0) & (x['supports_children'] == True)\n",
    "    ].assign(\n",
    "        # age group depends on tage (age as of last birthday)\n",
    "        age_group = lambda frame: frame['tage'].apply( group_age ),\n",
    "        # generation depends on tdob_byear (year of birth)\n",
    "        generation = lambda frame: frame['tdob_byear'].apply( group_generation )\n",
    "    ).fillna(0)\n",
    "    \n",
    "    return children"
   ]
  },
  {
   "cell_type": "code",
   "execution_count": 11,
   "metadata": {},
   "outputs": [],
   "source": [
    "children1 = filter_children(wave1)\n",
    "children4 = filter_children(wave4)"
   ]
  },
  {
   "cell_type": "markdown",
   "metadata": {},
   "source": [
    "Write out uniques"
   ]
  },
  {
   "cell_type": "code",
   "execution_count": 12,
   "metadata": {},
   "outputs": [],
   "source": [
    "children1.to_csv(\"../output/w1_supports_children.csv\", index = False)\n",
    "children4.to_csv(\"../output/w4_supports_children.csv\", index = False)"
   ]
  },
  {
   "cell_type": "markdown",
   "metadata": {},
   "source": [
    "---\n",
    "---\n",
    "---"
   ]
  }
 ],
 "metadata": {
  "kernelspec": {
   "display_name": "Python 3",
   "language": "python",
   "name": "python3"
  },
  "language_info": {
   "codemirror_mode": {
    "name": "ipython",
    "version": 3
   },
   "file_extension": ".py",
   "mimetype": "text/x-python",
   "name": "python",
   "nbconvert_exporter": "python",
   "pygments_lexer": "ipython3",
   "version": "3.6.4"
  }
 },
 "nbformat": 4,
 "nbformat_minor": 2
}
