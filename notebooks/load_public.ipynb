{
 "cells": [
  {
   "cell_type": "markdown",
   "metadata": {},
   "source": [
    "Loads the public use data from from the Survey of Income and Program Participation, waves 1 and 4"
   ]
  },
  {
   "cell_type": "code",
   "execution_count": 1,
   "metadata": {},
   "outputs": [],
   "source": [
    "import pandas as pd\n",
    "import io"
   ]
  },
  {
   "cell_type": "markdown",
   "metadata": {},
   "source": [
    "Preselecting the columns reduces the size of the dataset to a manageable load"
   ]
  },
  {
   "cell_type": "code",
   "execution_count": 2,
   "metadata": {},
   "outputs": [],
   "source": [
    "columns = [\n",
    "    \"ssuid\", \n",
    "    'shhadid', \n",
    "    'pnum', \n",
    "    \"monthcode\",\n",
    "    \"aage\",\n",
    "    \"adob_bmonth\",\n",
    "    \"adob_byear\",    \n",
    "    \"edob_bmonth\",\n",
    "    \"tage\",\n",
    "    \"tage_ehc\",\n",
    "    \"tdob_byear\",\n",
    "    'eothsuprt1yn', \n",
    "    \"eothsuprt2yn\",\n",
    "    \"apartotamt\",\n",
    "    \"tpartotamt\",\n",
    "    \"tkidtotamt\",\n",
    "    \"wpfinwgt\"\n",
    "]"
   ]
  },
  {
   "cell_type": "markdown",
   "metadata": {},
   "source": [
    "Iterate through the dataset to avoid overloading memory"
   ]
  },
  {
   "cell_type": "code",
   "execution_count": 3,
   "metadata": {},
   "outputs": [],
   "source": [
    "def load_file(filename):\n",
    "    itr = pd.read_stata(\n",
    "        filename, \n",
    "        chunksize = 10000,\n",
    "        columns = columns,\n",
    "        preserve_dtypes = True\n",
    "    )\n",
    "    \n",
    "    df = pd.DataFrame()\n",
    "\n",
    "    for chunk in itr:\n",
    "        df = df.append(chunk)\n",
    "        \n",
    "    # add uid\n",
    "    return df.assign(\n",
    "        uid = lambda x: x['ssuid'].astype(str) + \"-\" + x[\"pnum\"].astype(str),\n",
    "    )\n",
    "    "
   ]
  },
  {
   "cell_type": "code",
   "execution_count": 4,
   "metadata": {},
   "outputs": [],
   "source": [
    "# wave 1\n",
    "w1 = load_file(\"../data/pu2014w1.dta\")\n",
    "w1.to_csv(\"../output/wave1.csv\", index = False)"
   ]
  },
  {
   "cell_type": "code",
   "execution_count": 5,
   "metadata": {},
   "outputs": [],
   "source": [
    "# wave 4\n",
    "w4 = load_file(\"../data/pu2014w4.dta\")\n",
    "w4.to_csv(\"../output/wave4.csv\", index = False)"
   ]
  },
  {
   "cell_type": "markdown",
   "metadata": {},
   "source": [
    "---\n",
    "---\n",
    "---"
   ]
  }
 ],
 "metadata": {
  "kernelspec": {
   "display_name": "Python 3",
   "language": "python",
   "name": "python3"
  },
  "language_info": {
   "codemirror_mode": {
    "name": "ipython",
    "version": 3
   },
   "file_extension": ".py",
   "mimetype": "text/x-python",
   "name": "python",
   "nbconvert_exporter": "python",
   "pygments_lexer": "ipython3",
   "version": "3.6.4"
  }
 },
 "nbformat": 4,
 "nbformat_minor": 2
}
