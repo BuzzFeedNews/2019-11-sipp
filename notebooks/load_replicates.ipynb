{
 "cells": [
  {
   "cell_type": "code",
   "execution_count": 1,
   "metadata": {},
   "outputs": [],
   "source": [
    "import pandas as pd"
   ]
  },
  {
   "cell_type": "markdown",
   "metadata": {},
   "source": [
    "Load replicate weights using a generator because the file is large"
   ]
  },
  {
   "cell_type": "code",
   "execution_count": 2,
   "metadata": {},
   "outputs": [],
   "source": [
    "def load_replicates(filename):\n",
    "    # build iterator\n",
    "    itr = pd.read_stata(\n",
    "        filename,\n",
    "        preserve_dtypes = True,\n",
    "        chunksize = 10000,\n",
    "    )\n",
    "\n",
    "    df = pd.DataFrame()\n",
    "\n",
    "    for chunk in itr:\n",
    "        df = df.append(chunk)\n",
    "        \n",
    "    # filter list and add uid\n",
    "    res = (\n",
    "        df\n",
    "        .assign(\n",
    "            uid = lambda x: x['ssuid'].astype(str) + \"-\" + x[\"pnum\"].astype(str),\n",
    "        )\n",
    "        .loc[ lambda x: x[\"monthcode\"] == 12 ]\n",
    "        .drop(columns = [\"ssuid\", \"pnum\", \"spanel\", \"monthcode\"])\n",
    "    )\n",
    "    \n",
    "    return res"
   ]
  },
  {
   "cell_type": "code",
   "execution_count": 3,
   "metadata": {},
   "outputs": [],
   "source": [
    "w1 = load_replicates(\"../data/rw14w1.dta\")\n",
    "\n",
    "w1.drop(\n",
    "    # This column is the same as the \"wpfinwgt\" column in the public use notebook\n",
    "    columns = [\"repwt0\"] \n",
    ").to_csv(\"../output/w1_replicates.csv\", index = False)\n"
   ]
  },
  {
   "cell_type": "code",
   "execution_count": 4,
   "metadata": {},
   "outputs": [],
   "source": [
    "w4 = load_replicates(\"../data/rw14w4.dta\")\n",
    "\n",
    "w4.to_csv(\"../output/w4_replicates.csv\", index = False)\n"
   ]
  },
  {
   "cell_type": "markdown",
   "metadata": {},
   "source": [
    "---\n",
    "---\n",
    "---"
   ]
  }
 ],
 "metadata": {
  "kernelspec": {
   "display_name": "Python 3",
   "language": "python",
   "name": "python3"
  },
  "language_info": {
   "codemirror_mode": {
    "name": "ipython",
    "version": 3
   },
   "file_extension": ".py",
   "mimetype": "text/x-python",
   "name": "python",
   "nbconvert_exporter": "python",
   "pygments_lexer": "ipython3",
   "version": "3.6.4"
  }
 },
 "nbformat": 4,
 "nbformat_minor": 2
}
